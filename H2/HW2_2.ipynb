{
 "metadata": {
  "language_info": {
   "codemirror_mode": {
    "name": "ipython",
    "version": 3
   },
   "file_extension": ".py",
   "mimetype": "text/x-python",
   "name": "python",
   "nbconvert_exporter": "python",
   "pygments_lexer": "ipython3",
   "version": "3.7.9-final"
  },
  "orig_nbformat": 2,
  "kernelspec": {
   "name": "python3",
   "display_name": "Python 3"
  }
 },
 "nbformat": 4,
 "nbformat_minor": 2,
 "cells": [
  {
   "cell_type": "code",
   "execution_count": 1,
   "metadata": {},
   "outputs": [],
   "source": [
    "import numpy as np"
   ]
  },
  {
   "source": [
    "# Data"
   ],
   "cell_type": "markdown",
   "metadata": {}
  },
  {
   "cell_type": "code",
   "execution_count": 2,
   "metadata": {},
   "outputs": [
    {
     "output_type": "stream",
     "name": "stdout",
     "text": [
      "X shape: (14, 4)\nY shape: (14,)\n"
     ]
    }
   ],
   "source": [
    "# data\n",
    "X = np.array([['sunny',      'hot',  'high',     'weak'  ],\n",
    "              ['sunny',      'hot',  'high',     'strong'],\n",
    "              ['overcast',   'hot',  'high',     'weak'  ],\n",
    "              ['rain',       'mild', 'high',     'weak'  ],\n",
    "              ['rain',       'cool', 'normal',   'weak'  ],\n",
    "              ['rain',       'cool', 'normal',   'strong'],\n",
    "              ['overcast',   'cool', 'normal',   'strong'],\n",
    "              ['sunny',      'mild', 'high',     'weak'  ],\n",
    "              ['sunny',      'cool', 'normal',   'weak'  ],\n",
    "              ['rain',       'mild', 'normal',   'weak'  ],\n",
    "              ['sunny',      'mild', 'normal',   'strong'],\n",
    "              ['overcast',   'mild', 'high',     'strong'],\n",
    "              ['overcast',   'hot',  'normal',   'weak'  ],\n",
    "              ['rain',       'mild', 'high',     'strong']])\n",
    "Y = np.array(['no','no','yes','yes','yes','no','yes','no','yes','yes','yes','yes','yes','no'])\n",
    "\n",
    "# possible values\n",
    "xi = [['sunny','overcast','rain'],  # outlook\n",
    "      ['hot','mild','cool'],        # temperature\n",
    "      ['high','normal'],            # humidity\n",
    "      ['strong','weak']]            # wind\n",
    "y = ['no', 'yes']                   # play\n",
    "\n",
    "# labels of each feature\n",
    "xi_labels = ['outlook', 'temperature', 'humidity', 'wind']\n",
    "\n",
    "print(\"X shape:\",X.shape)\n",
    "print(\"Y shape:\",Y.shape)\n"
   ]
  },
  {
   "source": [
    "# Entropy Calculation"
   ],
   "cell_type": "markdown",
   "metadata": {}
  },
  {
   "cell_type": "code",
   "execution_count": 3,
   "metadata": {},
   "outputs": [],
   "source": [
    "def find_branch(X,Y,xi,y):\n",
    "    # probabilities\n",
    "    p_Y = np.array([np.sum(Y==i)/len(Y) for i in y])\n",
    "    p_xi = np.array([[np.sum(X==k)/len(Y) for k in x] for x in xi])\n",
    "    p_Yxi = [np.array([[np.sum((X[:,i]==k)&(Y==j))/np.sum(X==k) for k in x] for j in y]) for i,x in enumerate(xi)]\n",
    "\n",
    "    # entropy\n",
    "    H_Yxi = np.array([-np.nansum(p_xi[i]*np.nansum(p_Yxi[i]*np.log2(p_Yxi[i]), axis=0)) for i in range(len(xi))])\n",
    "\n",
    "    return np.argmin(H_Yxi)"
   ]
  },
  {
   "source": [
    "# ID3 Algorithm"
   ],
   "cell_type": "markdown",
   "metadata": {}
  },
  {
   "cell_type": "code",
   "execution_count": 4,
   "metadata": {},
   "outputs": [],
   "source": [
    "def ID3(X,Y,xi,y,xi_labels):\n",
    "    h_idx = find_branch(X,Y,xi,y)\n",
    "    tree = {}\n",
    "    tree[xi_labels[h_idx]] = {}\n",
    "    for i in xi[h_idx]:\n",
    "        branch = 'NotSet'\n",
    "        for y_i in y:\n",
    "            if np.all(Y[X[:,h_idx]==i]==y_i):\n",
    "                branch = y_i\n",
    "        if branch == 'NotSet':\n",
    "            X_i = np.delete(X,h_idx,1)[X[:,h_idx]==i]\n",
    "            xi_i = xi[:h_idx]+xi[h_idx+1:]\n",
    "            xi_labels_i = xi_labels[:h_idx]+xi_labels[h_idx+1:]\n",
    "            branch = ID3(X_i,Y[X[:,h_idx]==i],xi_i,y,xi_labels_i)\n",
    "        tree[xi_labels[h_idx]].update({i:branch})\n",
    "    return tree\n"
   ]
  },
  {
   "source": [
    "# Run Algorithm"
   ],
   "cell_type": "markdown",
   "metadata": {}
  },
  {
   "cell_type": "code",
   "execution_count": 5,
   "metadata": {},
   "outputs": [
    {
     "output_type": "stream",
     "name": "stdout",
     "text": [
      "{'outlook': {'sunny': {'humidity': {'high': 'no', 'normal': 'yes'}}, 'overcast': 'yes', 'rain': {'wind': {'strong': 'no', 'weak': 'yes'}}}}\n"
     ]
    }
   ],
   "source": [
    "tree = ID3(X,Y,xi,y,xi_labels)\n",
    "print(tree)"
   ]
  }
 ]
}