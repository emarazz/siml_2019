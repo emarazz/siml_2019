{
 "metadata": {
  "language_info": {
   "codemirror_mode": {
    "name": "ipython",
    "version": 3
   },
   "file_extension": ".py",
   "mimetype": "text/x-python",
   "name": "python",
   "nbconvert_exporter": "python",
   "pygments_lexer": "ipython3",
   "version": "3.7.9-final"
  },
  "orig_nbformat": 2,
  "kernelspec": {
   "name": "python3",
   "display_name": "Python 3"
  }
 },
 "nbformat": 4,
 "nbformat_minor": 2,
 "cells": [
  {
   "cell_type": "code",
   "execution_count": 1,
   "metadata": {},
   "outputs": [],
   "source": [
    "import numpy as np"
   ]
  },
  {
   "source": [
    "# Data"
   ],
   "cell_type": "markdown",
   "metadata": {}
  },
  {
   "cell_type": "code",
   "execution_count": 2,
   "metadata": {},
   "outputs": [
    {
     "output_type": "stream",
     "name": "stdout",
     "text": [
      "X shape: (14, 4)\nY shape: (14,)\n"
     ]
    }
   ],
   "source": [
    "# data\n",
    "X = np.array([['sunny',      'hot',  'high',     'weak'  ],\n",
    "              ['sunny',      'hot',  'high',     'strong'],\n",
    "              ['overcast',   'hot',  'high',     'weak'  ],\n",
    "              ['rain',       'mild', 'high',     'weak'  ],\n",
    "              ['rain',       'cool', 'normal',   'weak'  ],\n",
    "              ['rain',       'cool', 'normal',   'strong'],\n",
    "              ['overcast',   'cool', 'normal',   'strong'],\n",
    "              ['sunny',      'mild', 'high',     'weak'  ],\n",
    "              ['sunny',      'cool', 'normal',   'weak'  ],\n",
    "              ['rain',       'mild', 'normal',   'weak'  ],\n",
    "              ['sunny',      'mild', 'normal',   'strong'],\n",
    "              ['overcast',   'mild', 'high',     'strong'],\n",
    "              ['overcast',   'hot',  'normal',   'weak'  ],\n",
    "              ['rain',       'mild', 'high',     'strong']])\n",
    "Y = np.array([0,0,1,1,1,0,1,0,1,1,1,1,1,0])\n",
    "\n",
    "# possible values\n",
    "xi = [['sunny','overcast','rain'],  # outlook\n",
    "      ['hot','mild','cool'],        # temperature\n",
    "      ['high','normal'],            # humidity\n",
    "      ['strong','weak']]            # wind\n",
    "y = [0, 1]                          # play\n",
    "\n",
    "# labels of each feature\n",
    "xi_labels = ['outlook', 'temperature', 'humidity', 'wind']\n",
    "\n",
    "print(\"X shape:\",X.shape)\n",
    "print(\"Y shape:\",Y.shape)\n"
   ]
  },
  {
   "source": [
    "# Probabilities"
   ],
   "cell_type": "markdown",
   "metadata": {}
  },
  {
   "cell_type": "code",
   "execution_count": 3,
   "metadata": {},
   "outputs": [],
   "source": [
    "p_Y = np.array([np.sum(Y==i)/len(Y) for i in y])\n",
    "p_xi = np.array([[np.sum(X==k)/len(Y) for k in x] for x in xi])\n",
    "p_Yxi = [np.array([[np.sum((X[:,i]==k)&(Y==j))/np.sum(X==k) for k in x] for j in y]) for i,x in enumerate(xi)]"
   ]
  },
  {
   "source": [
    "# Entropies"
   ],
   "cell_type": "markdown",
   "metadata": {}
  },
  {
   "cell_type": "code",
   "execution_count": 4,
   "metadata": {},
   "outputs": [],
   "source": [
    "H_Y = -np.sum(p_Y*np.log2(p_Y))\n",
    "H_Yxi = [-np.nansum(p_xi[i]*np.nansum(p_Yxi[i]*np.log2(p_Yxi[i]), axis=0)) for i in range(len(xi))]"
   ]
  },
  {
   "source": [
    "# Mutual Informaion\n"
   ],
   "cell_type": "markdown",
   "metadata": {}
  },
  {
   "cell_type": "code",
   "execution_count": 5,
   "metadata": {},
   "outputs": [],
   "source": [
    "I_xiY = [H_Y - H_Yxi[i] for i in range(len(xi))]"
   ]
  },
  {
   "source": [
    "# Results"
   ],
   "cell_type": "markdown",
   "metadata": {}
  },
  {
   "cell_type": "code",
   "execution_count": 6,
   "metadata": {},
   "outputs": [
    {
     "output_type": "stream",
     "name": "stdout",
     "text": [
      "I(outlook,Y) = 0.246750\nI(temperature,Y) = 0.029223\nI(humidity,Y) = 0.151836\nI(wind,Y) = 0.048127\n"
     ]
    }
   ],
   "source": [
    "for i,I in enumerate(I_xiY):\n",
    "    print('I('+xi_labels[i]+',Y) = %f' % I)"
   ]
  }
 ]
}