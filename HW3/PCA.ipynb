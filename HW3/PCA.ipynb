{
 "metadata": {
  "language_info": {
   "codemirror_mode": {
    "name": "ipython",
    "version": 3
   },
   "file_extension": ".py",
   "mimetype": "text/x-python",
   "name": "python",
   "nbconvert_exporter": "python",
   "pygments_lexer": "ipython3",
   "version": "3.7.9-final"
  },
  "orig_nbformat": 2,
  "kernelspec": {
   "name": "python3",
   "display_name": "Python 3"
  }
 },
 "nbformat": 4,
 "nbformat_minor": 2,
 "cells": [
  {
   "cell_type": "code",
   "execution_count": null,
   "metadata": {},
   "outputs": [],
   "source": [
    "%matplotlib inline\n",
    "import numpy as np\n",
    "import pandas as pd\n",
    "import matplotlib.pyplot as plt\n",
    "%load_ext autoreload\n",
    "%autoreload 2"
   ]
  },
  {
   "source": [
    "# PCA\n",
    "## Load data"
   ],
   "cell_type": "markdown",
   "metadata": {}
  },
  {
   "cell_type": "code",
   "execution_count": null,
   "metadata": {},
   "outputs": [],
   "source": [
    "X = pd.read_csv('./leaf.csv', header=None).values\n",
    "X.shape"
   ]
  },
  {
   "source": [
    "## 1.1"
   ],
   "cell_type": "markdown",
   "metadata": {}
  },
  {
   "cell_type": "code",
   "execution_count": null,
   "metadata": {},
   "outputs": [],
   "source": [
    "# scale data\n",
    "mean = np.mean(X, axis=0)\n",
    "std = np.std(X, axis=0)\n",
    "X_scaled = (X-mean) / std\n",
    "\n",
    "# calculate covariance matrix\n",
    "cov = np.cov(X_scaled.T)\n",
    "\n",
    "# calculate eigenvectors and eigenvalues\n",
    "eig_vals, eig_vecs = np.linalg.eig(cov)\n",
    "\n",
    "# plot eigenvalues in ascending order\n",
    "plt.figure(figsize=(8,4))\n",
    "plt.plot(np.arange(len(eig_vals))+1,np.sort(eig_vals))\n",
    "plt.xlim([1,len(eig_vals)])\n",
    "plt.xlabel('eigenvalue index')\n",
    "plt.ylabel('value')\n",
    "plt.xticks(np.arange(len(eig_vals))+1)\n",
    "plt.show()"
   ]
  },
  {
   "source": [
    "## 1.2"
   ],
   "cell_type": "markdown",
   "metadata": {}
  },
  {
   "cell_type": "code",
   "execution_count": null,
   "metadata": {},
   "outputs": [],
   "source": [
    "# selecting how many eigenvalues to use (choosing k)\n",
    "eig_vals_percentage = np.flip(np.sort(eig_vals))/np.sum(eig_vals)\n",
    "ks = np.arange(len(eig_vals))+1\n",
    "k_sums = np.zeros_like(eig_vals)\n",
    "for k, val in enumerate(eig_vals_percentage):\n",
    "    k_sums[k] = k_sums[k-1]+val\n",
    "    if k_sums[k]>0.95 and k_sums[k-1]<0.95:\n",
    "        print(f'k={k+1} is a good choise of k')\n",
    "pd.DataFrame({'k':ks, 'coverage %':k_sums}, columns= ['k', 'coverage %']).style.hide_index()"
   ]
  },
  {
   "source": [
    "## 1.3"
   ],
   "cell_type": "markdown",
   "metadata": {}
  },
  {
   "cell_type": "code",
   "execution_count": null,
   "metadata": {},
   "outputs": [],
   "source": [
    "# printing the eigenvectors for k=2\n",
    "pd.DataFrame({'w1':eig_vecs[0], 'w2':eig_vecs[1]}, columns= ['w1', 'w2'])"
   ]
  },
  {
   "source": [
    "## 1.4"
   ],
   "cell_type": "markdown",
   "metadata": {}
  },
  {
   "cell_type": "code",
   "execution_count": null,
   "metadata": {},
   "outputs": [],
   "source": [
    "# calculate  and plat data on PCA space\n",
    "alpha1 = X_scaled.dot(eig_vecs[0])\n",
    "alpha2 = X_scaled.dot(eig_vecs[1])\n",
    "plt.figure(figsize=(6,6))\n",
    "plt.scatter(alpha1,alpha2)\n",
    "plt.xlabel(r'$\\alpha_1$')\n",
    "plt.ylabel(r'$\\alpha_2$')\n",
    "plt.show()"
   ]
  },
  {
   "source": [
    "## 1.5"
   ],
   "cell_type": "markdown",
   "metadata": {}
  },
  {
   "cell_type": "code",
   "execution_count": null,
   "metadata": {},
   "outputs": [],
   "source": [
    "# calculate mean squared reconstruction error\n",
    "X_pca = np.zeros_like(X)\n",
    "for i in range(X_pca.shape[0]):\n",
    "    X_pca[i] = eig_vecs[:2].T.dot(eig_vecs[:2].dot(X_scaled[i]))\n",
    "MSE = np.mean((X_scaled-X_pca)**2)\n",
    "print(f'The Mean squared reconstruction error is {MSE}')"
   ]
  },
  {
   "source": [
    "# Task 1 - EM Algorithm\n",
    "## Load Data"
   ],
   "cell_type": "markdown",
   "metadata": {}
  },
  {
   "cell_type": "code",
   "execution_count": null,
   "metadata": {},
   "outputs": [],
   "source": [
    "data = pd.read_csv('./data.csv', header=None).values\n",
    "T = data[:,:-1]\n",
    "y = data[:,-1]\n",
    "print(T.shape, y.shape)"
   ]
  },
  {
   "cell_type": "code",
   "execution_count": null,
   "metadata": {
    "tags": []
   },
   "outputs": [],
   "source": [
    "# initialize\n",
    "c_vals = list(set(y))\n",
    "n_d = len(y)\n",
    "n_c = len(c_vals)\n",
    "n_w = T.shape[1]\n",
    "# pi = np.array([np.sum(y==c)/len(y) for c in c_vals])\n",
    "# mu = np.array([[np.sum(T[:,j]*(y==c_vals[c]))/np.sum(T) for c in range(n_c)] for j in range(n_w)])\n",
    "pi = np.ones(n_c) / n_c\n",
    "mu = np.ones((n_w,n_c)) /n_c\n",
    "gamma = np.zeros((n_d,n_c))\n",
    "print(f'n_d = {n_d}, n_c = {n_c}, n_w = {n_w}')\n",
    "print(f'pi.shape = {pi.shape}, mu.shape = {mu.shape}, gamma.shape = {gamma.shape}')\n",
    "print(mu.sum())\n",
    "\n",
    "# iterate EM algorithm\n",
    "iters = 1\n",
    "for iter in range(iters):\n",
    "    # E-step\n",
    "    for i in range(n_d):\n",
    "        for c in range(n_c):\n",
    "            gamma[i,c] = np.nan_to_num((pi[c]*np.prod(mu[:,c]**T[i,:])) / (np.sum(pi*np.prod(mu**np.tile(T[i,:],(n_c,1)).T))))\n",
    "    # M-step\n",
    "    for c in range(n_c):\n",
    "        for j in range(n_w):\n",
    "            mu[j,c] = np.sum(gamma[:,c]*T[:,j]) / np.sum(np.tile(gamma[:,c],(100,1)).T*T)\n",
    "        pi[c] =  np.sum(gamma[:,c]) / n_d\n",
    "\n",
    "# check accuracy\n",
    "y_pred = [c_vals[pred] for pred in np.argmax(gamma,axis=1)]\n",
    "acc = np.mean(y==y_pred)\n",
    "print(f'The accuracy of the EM Algorithm is {acc}')"
   ]
  }
 ]
}